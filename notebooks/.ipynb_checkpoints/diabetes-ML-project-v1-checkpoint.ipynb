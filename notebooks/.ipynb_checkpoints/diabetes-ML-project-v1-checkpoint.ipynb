{
 "cells": [
  {
   "cell_type": "markdown",
   "id": "565d83ff-2e8c-4fd7-9156-0a1a25f717e8",
   "metadata": {},
   "source": [
    "Downloading the dataset..."
   ]
  },
  {
   "cell_type": "code",
   "execution_count": 1,
   "id": "9ffbd2e4-abf9-4ac9-b2d5-01152b8ee095",
   "metadata": {},
   "outputs": [
    {
     "name": "stdout",
     "output_type": "stream",
     "text": [
      "Downloading dataset...\n",
      "Download complete.\n",
      "Unzipping dataset...\n",
      "Unzipping complete.\n",
      "Clean-up complete: zip file removed.\n",
      "Dataset is available in the directory: dataset\n"
     ]
    }
   ],
   "source": [
    "import os\n",
    "import urllib.request\n",
    "import zipfile\n",
    "import shutil\n",
    "\n",
    "# URL of the dataset\n",
    "url = \"https://archive.ics.uci.edu/static/public/529/early+stage+diabetes+risk+prediction+dataset.zip\"\n",
    "\n",
    "# Directory to save the dataset\n",
    "save_dir = \"dataset\"\n",
    "zip_path = os.path.join(save_dir, \"diabetes_dataset.zip\")\n",
    "\n",
    "# Create the directory if it doesn't exist\n",
    "os.makedirs(save_dir, exist_ok=True)\n",
    "\n",
    "try:\n",
    "    # Download the dataset\n",
    "    print(\"Downloading dataset...\")\n",
    "    urllib.request.urlretrieve(url, zip_path)\n",
    "    print(\"Download complete.\")\n",
    "\n",
    "    # Unzip the dataset\n",
    "    print(\"Unzipping dataset...\")\n",
    "    with zipfile.ZipFile(zip_path, 'r') as zip_ref:\n",
    "        zip_ref.extractall(save_dir)\n",
    "    print(\"Unzipping complete.\")\n",
    "\n",
    "except urllib.error.URLError as e:\n",
    "    print(f\"Failed to download the dataset. URL error: {e}\")\n",
    "except zipfile.BadZipFile as e:\n",
    "    print(f\"Failed to unzip the dataset. Bad zip file error: {e}\")\n",
    "except Exception as e:\n",
    "    print(f\"An unexpected error occurred: {e}\")\n",
    "finally:\n",
    "    # Clean up: remove the zip file\n",
    "    if os.path.exists(zip_path):\n",
    "        os.remove(zip_path)\n",
    "        print(\"Clean-up complete: zip file removed.\")\n",
    "\n",
    "    # Check if unzipped files exist\n",
    "    if os.path.exists(save_dir):\n",
    "        print(f\"Dataset is available in the directory: {save_dir}\")\n",
    "    else:\n",
    "        print(\"Unzipping failed, dataset not found.\")\n"
   ]
  },
  {
   "cell_type": "code",
   "execution_count": 6,
   "id": "2d13d061-390c-4241-a47d-eab59d557fc0",
   "metadata": {},
   "outputs": [],
   "source": [
    "## Libraries\n",
    "\n",
    "# EDA\n",
    "import numpy as np\n",
    "import pandas as pd\n",
    "\n",
    "# vis\n",
    "import matplotlib.pyplot as plt\n",
    "import seaborn as sns\n",
    "#import plotly.express as px\n",
    "\n",
    "# ML \n",
    "import sklearn\n",
    "from sklearn.linear_model import LogisticRegression\n",
    "from sklearn.ensemble import RandomForestClassifier\n",
    "from sklearn.tree import DecisionTreeClassifier\n",
    "from sklearn.model_selection import train_test_split\n",
    "\n",
    "\n",
    "## ML metric\n",
    "from sklearn.metrics import accuracy_score, classification_report, confusion_matrix\n",
    "\n",
    "# Ignore warning\n",
    "import warnings\n",
    "warnings.filterwarnings(\"ignore\")\n"
   ]
  },
  {
   "cell_type": "markdown",
   "id": "938f7cb9-3745-4480-ba97-0e13c1d6298d",
   "metadata": {},
   "source": [
    "Descriptive analysis"
   ]
  },
  {
   "cell_type": "code",
   "execution_count": null,
   "id": "061d6412-00d9-4af5-8e99-905dd3d993ab",
   "metadata": {},
   "outputs": [],
   "source": [
    "df = pd.read_csv("
   ]
  },
  {
   "cell_type": "code",
   "execution_count": null,
   "id": "b2cae1e9-0775-4ece-b999-f851f9e0303e",
   "metadata": {},
   "outputs": [],
   "source": []
  }
 ],
 "metadata": {
  "kernelspec": {
   "display_name": "Python 3 (ipykernel)",
   "language": "python",
   "name": "python3"
  },
  "language_info": {
   "codemirror_mode": {
    "name": "ipython",
    "version": 3
   },
   "file_extension": ".py",
   "mimetype": "text/x-python",
   "name": "python",
   "nbconvert_exporter": "python",
   "pygments_lexer": "ipython3",
   "version": "3.12.0"
  }
 },
 "nbformat": 4,
 "nbformat_minor": 5
}
